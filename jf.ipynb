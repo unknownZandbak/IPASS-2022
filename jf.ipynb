{
 "cells": [
  {
   "cell_type": "code",
   "execution_count": 1,
   "metadata": {},
   "outputs": [],
   "source": [
    "import numpy as np\n",
    "import itertools as it\n",
    "import src.main as main"
   ]
  },
  {
   "cell_type": "code",
   "execution_count": 2,
   "metadata": {},
   "outputs": [
    {
     "data": {
      "text/plain": [
       "65536"
      ]
     },
     "execution_count": 2,
     "metadata": {},
     "output_type": "execute_result"
    }
   ],
   "source": [
    "prod = list(it.product(range(2), repeat=4**2))\n",
    "len(prod)\n"
   ]
  },
  {
   "cell_type": "code",
   "execution_count": 3,
   "metadata": {},
   "outputs": [
    {
     "data": {
      "text/plain": [
       "array([0, 0, 0, 0, 0, 0, 0, 1, 1, 1, 0, 0, 1, 0, 0, 0])"
      ]
     },
     "execution_count": 3,
     "metadata": {},
     "output_type": "execute_result"
    }
   ],
   "source": [
    "a = np.asarray(prod[456])\n",
    "a"
   ]
  },
  {
   "cell_type": "code",
   "execution_count": 4,
   "metadata": {},
   "outputs": [
    {
     "data": {
      "text/plain": [
       "matrix([[0, 0, 0, 0],\n",
       "        [0, 0, 0, 1],\n",
       "        [1, 1, 0, 0],\n",
       "        [1, 0, 0, 0]])"
      ]
     },
     "execution_count": 4,
     "metadata": {},
     "output_type": "execute_result"
    }
   ],
   "source": [
    "np.matrix(a.reshape((4,4)))"
   ]
  },
  {
   "cell_type": "code",
   "execution_count": 5,
   "metadata": {},
   "outputs": [],
   "source": [
    "m = np.matrix(a)"
   ]
  },
  {
   "cell_type": "code",
   "execution_count": 6,
   "metadata": {},
   "outputs": [
    {
     "data": {
      "text/plain": [
       "array([[0, 0, 1, 1],\n",
       "       [0, 0, 0, 0],\n",
       "       [0, 0, 1, 1],\n",
       "       [0, 0, 0, 0]])"
      ]
     },
     "execution_count": 6,
     "metadata": {},
     "output_type": "execute_result"
    }
   ],
   "source": [
    "m = np.random.randint(2, size=(4,4))\n",
    "m"
   ]
  },
  {
   "cell_type": "code",
   "execution_count": 7,
   "metadata": {},
   "outputs": [
    {
     "data": {
      "text/plain": [
       "0"
      ]
     },
     "execution_count": 7,
     "metadata": {},
     "output_type": "execute_result"
    }
   ],
   "source": [
    "m[1, 0]"
   ]
  },
  {
   "cell_type": "code",
   "execution_count": 8,
   "metadata": {},
   "outputs": [
    {
     "data": {
      "text/plain": [
       "array([[ True,  True,  True,  True],\n",
       "       [ True,  True, False, False],\n",
       "       [ True,  True,  True,  True],\n",
       "       [ True,  True, False, False]])"
      ]
     },
     "execution_count": 8,
     "metadata": {},
     "output_type": "execute_result"
    }
   ],
   "source": [
    "m == m[0,:]"
   ]
  },
  {
   "cell_type": "code",
   "execution_count": 9,
   "metadata": {},
   "outputs": [
    {
     "data": {
      "text/plain": [
       "array([[ True,  True, False, False],\n",
       "       [ True,  True,  True,  True],\n",
       "       [ True,  True, False, False],\n",
       "       [ True,  True,  True,  True]])"
      ]
     },
     "execution_count": 9,
     "metadata": {},
     "output_type": "execute_result"
    }
   ],
   "source": [
    "tb = m == m[3,:]\n",
    "tb"
   ]
  },
  {
   "cell_type": "code",
   "execution_count": 10,
   "metadata": {},
   "outputs": [
    {
     "data": {
      "text/plain": [
       "array([False,  True, False,  True])"
      ]
     },
     "execution_count": 10,
     "metadata": {},
     "output_type": "execute_result"
    }
   ],
   "source": [
    "tb = tb.all(1)\n",
    "tb"
   ]
  },
  {
   "cell_type": "code",
   "execution_count": 11,
   "metadata": {},
   "outputs": [
    {
     "data": {
      "text/plain": [
       "array([False,  True, False])"
      ]
     },
     "execution_count": 11,
     "metadata": {},
     "output_type": "execute_result"
    }
   ],
   "source": [
    "tb = np.delete(tb, 3)\n",
    "tb"
   ]
  },
  {
   "cell_type": "code",
   "execution_count": 12,
   "metadata": {},
   "outputs": [],
   "source": [
    "# np.all(tb, axis=1)"
   ]
  },
  {
   "cell_type": "code",
   "execution_count": 13,
   "metadata": {},
   "outputs": [],
   "source": [
    "matrix = np.array(([1,1,0,1,0,0],[1,0,0,1,1,0],[0,1,1,0,1,1],[1,0,1,1,0,0],[0,1,0,1,0,1],[0,0,1,0,1,1]))"
   ]
  },
  {
   "cell_type": "code",
   "execution_count": 14,
   "metadata": {},
   "outputs": [
    {
     "data": {
      "text/plain": [
       "array([ True, False, False, False, False, False])"
      ]
     },
     "execution_count": 14,
     "metadata": {},
     "output_type": "execute_result"
    }
   ],
   "source": [
    "np.all(matrix == matrix[0,:], 1)"
   ]
  },
  {
   "cell_type": "code",
   "execution_count": 15,
   "metadata": {},
   "outputs": [],
   "source": [
    "matrix = np.array(([5588, 1, 6312, 7711], [2986, 5669, 6793, 2317], [3479, 7200, 8358, 1], [7879, 4766, 2297, 5679]))\n",
    "pos = row, column = 2, 2\n",
    "value = 0"
   ]
  },
  {
   "cell_type": "code",
   "execution_count": 16,
   "metadata": {},
   "outputs": [
    {
     "data": {
      "text/plain": [
       "8358"
      ]
     },
     "execution_count": 16,
     "metadata": {},
     "output_type": "execute_result"
    }
   ],
   "source": [
    "matrix[pos]"
   ]
  },
  {
   "cell_type": "markdown",
   "metadata": {},
   "source": [
    "## NaN matrix"
   ]
  },
  {
   "cell_type": "code",
   "execution_count": 17,
   "metadata": {},
   "outputs": [
    {
     "data": {
      "text/plain": [
       "array([[nan, nan, nan, nan, nan, nan],\n",
       "       [nan, nan, nan, nan, nan, nan],\n",
       "       [nan, nan, nan, nan, nan, nan],\n",
       "       [nan, nan, nan, nan, nan, nan],\n",
       "       [nan, nan, nan, nan, nan, nan],\n",
       "       [nan, nan, nan, nan, nan, nan]])"
      ]
     },
     "execution_count": 17,
     "metadata": {},
     "output_type": "execute_result"
    }
   ],
   "source": [
    "a = np.empty((6,6))\n",
    "a[:] = np.nan\n",
    "a"
   ]
  },
  {
   "cell_type": "code",
   "execution_count": 18,
   "metadata": {},
   "outputs": [
    {
     "name": "stdout",
     "output_type": "stream",
     "text": [
      "[nan nan nan]\n",
      "[nan nan nan]\n",
      "[nan nan nan]\n",
      "[nan nan nan]\n"
     ]
    }
   ],
   "source": [
    "for i in range(1, len(a)-1):\n",
    "        \n",
    "    print(a[0][i-1: i+2])"
   ]
  },
  {
   "cell_type": "code",
   "execution_count": 19,
   "metadata": {},
   "outputs": [
    {
     "data": {
      "text/plain": [
       "array([nan, nan, nan])"
      ]
     },
     "execution_count": 19,
     "metadata": {},
     "output_type": "execute_result"
    }
   ],
   "source": [
    "a[0][1-1: 1+2]"
   ]
  },
  {
   "cell_type": "code",
   "execution_count": 20,
   "metadata": {},
   "outputs": [
    {
     "data": {
      "text/plain": [
       "True"
      ]
     },
     "execution_count": 20,
     "metadata": {},
     "output_type": "execute_result"
    }
   ],
   "source": [
    "np.any(a[0][1-1: 1+2])"
   ]
  },
  {
   "cell_type": "code",
   "execution_count": 21,
   "metadata": {},
   "outputs": [
    {
     "data": {
      "text/plain": [
       "True"
      ]
     },
     "execution_count": 21,
     "metadata": {},
     "output_type": "execute_result"
    }
   ],
   "source": [
    "np.isnan(np.nan)"
   ]
  },
  {
   "cell_type": "code",
   "execution_count": 22,
   "metadata": {},
   "outputs": [
    {
     "data": {
      "text/plain": [
       "False"
      ]
     },
     "execution_count": 22,
     "metadata": {},
     "output_type": "execute_result"
    }
   ],
   "source": [
    "np.nan == None"
   ]
  },
  {
   "cell_type": "code",
   "execution_count": 23,
   "metadata": {},
   "outputs": [
    {
     "data": {
      "text/plain": [
       "array([[   1, 8606, 2484,    1, 3025, 4491, 1157, 7190],\n",
       "       [   1, 5428, 2187, 6565,    0, 8763, 6070, 1757],\n",
       "       [3820,    1,    0, 1788, 8901, 7037, 4748, 1807],\n",
       "       [   0, 8756, 4319, 1764, 6267,    1, 5911,    0],\n",
       "       [5159, 6302,    1, 1388, 2844, 9355, 7489, 9031],\n",
       "       [8383, 9769, 7564, 3189, 4354, 2050, 7770,    0],\n",
       "       [9864,    1, 2871,    1, 2142,    1,    0,    0],\n",
       "       [8934,    0, 9943,    1, 9541, 2164,    1, 7051]])"
      ]
     },
     "execution_count": 23,
     "metadata": {},
     "output_type": "execute_result"
    }
   ],
   "source": [
    "x = main.generate_matrix(8)\n",
    "x[0]"
   ]
  },
  {
   "cell_type": "code",
   "execution_count": 24,
   "metadata": {},
   "outputs": [
    {
     "name": "stdout",
     "output_type": "stream",
     "text": [
      "[[   1 8606 2484    1 3025 4491 1157 7190]\n",
      " [   1 5428 2187 6565    0 8763 6070 1757]\n",
      " [   0    1    0 1788 8901 7037 4748 1807]\n",
      " [   0 8756 4319 1764 6267    1 5911    0]\n",
      " [   1    0    1 1388 2844 9355 7489    1]\n",
      " [8383 9769 7564    0 4354 2050 7770    0]\n",
      " [   1    1    0    1    0    1    0    0]\n",
      " [8934    0 9943    1 9541 2164    1    1]]\n",
      "==========\n",
      "[[   1 8606 2484    1 3025 4491 1157 7190]\n",
      " [   1 5428 2187 6565    0 8763 6070 1757]\n",
      " [   0    1    0 1788 8901 7037 4748 1807]\n",
      " [   0 8756 4319 1764 6267    1 5911    0]\n",
      " [   1    0    1 1388 2844 9355 7489    1]\n",
      " [   0 9769 7564    0 4354 2050 7770    0]\n",
      " [   1    1    0    1    0    1    0    0]\n",
      " [   0    0 9943    1 9541    0    1    1]]\n",
      "==========\n",
      "[[   1 8606 2484    1 3025 4491 1157 7190]\n",
      " [   1 5428 2187 6565    0 8763 6070 1757]\n",
      " [   0    1    0 1788 8901 7037 4748 1807]\n",
      " [   0 8756 4319 1764 6267    1 5911    0]\n",
      " [   1    0    1 1388 2844 9355 7489    1]\n",
      " [   0 9769 7564    0 4354 2050 7770    0]\n",
      " [   1    1    0    1    0    1    0    0]\n",
      " [   0    0    1    1    0    0    1    1]]\n",
      "==========\n",
      "[[   1 8606 2484    1 3025 4491 1157 7190]\n",
      " [   1 5428 2187 6565    0 8763 6070 1757]\n",
      " [   0    1    0 1788 8901 7037 4748 1807]\n",
      " [   0 8756 4319 1764 6267    1 5911    0]\n",
      " [   1    0    1 1388 2844 9355 7489    1]\n",
      " [   0 9769 7564    0    1 2050 7770    0]\n",
      " [   1    1    0    1    0    1    0    0]\n",
      " [   0    0    1    1    0    0    1    1]]\n",
      "==========\n",
      "[[   1 8606 2484    1 3025 4491 1157 7190]\n",
      " [   1 5428 2187 6565    0 8763 6070 1757]\n",
      " [   0    1    0 1788 8901 7037 4748 1807]\n",
      " [   0 8756 4319 1764 6267    1 5911    0]\n",
      " [   1    0    1 1388 2844 9355 7489    1]\n",
      " [   0 9769 7564    0    1 2050 7770    0]\n",
      " [   1    1    0    1    0    1    0    0]\n",
      " [   0    0    1    1    0    0    1    1]]\n",
      "==========\n"
     ]
    },
    {
     "data": {
      "text/plain": [
       "array([[   1, 8606, 2484,    1, 3025, 4491, 1157, 7190],\n",
       "       [   1, 5428, 2187, 6565,    0, 8763, 6070, 1757],\n",
       "       [   0,    1,    0, 1788, 8901, 7037, 4748, 1807],\n",
       "       [   0, 8756, 4319, 1764, 6267,    1, 5911,    0],\n",
       "       [   1,    0,    1, 1388, 2844, 9355, 7489,    1],\n",
       "       [   0, 9769, 7564,    0,    1, 2050, 7770,    0],\n",
       "       [   1,    1,    0,    1,    0,    1,    0,    0],\n",
       "       [   0,    0,    1,    1,    0,    0,    1,    1]])"
      ]
     },
     "execution_count": 24,
     "metadata": {},
     "output_type": "execute_result"
    }
   ],
   "source": [
    "z = main.Constraint_propagations(x)\n",
    "z[0]"
   ]
  },
  {
   "cell_type": "code",
   "execution_count": 25,
   "metadata": {},
   "outputs": [
    {
     "data": {
      "text/plain": [
       "0"
      ]
     },
     "execution_count": 25,
     "metadata": {},
     "output_type": "execute_result"
    }
   ],
   "source": [
    "(z[0][0] == 0).sum()"
   ]
  },
  {
   "cell_type": "code",
   "execution_count": 26,
   "metadata": {},
   "outputs": [
    {
     "data": {
      "text/plain": [
       "array([False,  True,  True, False,  True,  True,  True,  True])"
      ]
     },
     "execution_count": 26,
     "metadata": {},
     "output_type": "execute_result"
    }
   ],
   "source": [
    "(z[0][0] != 0) & (z[0][0] != 1)"
   ]
  },
  {
   "cell_type": "code",
   "execution_count": 27,
   "metadata": {},
   "outputs": [],
   "source": [
    "z[0][0][(z[0][0] != 0) & (z[0][0] != 1)] = 1"
   ]
  },
  {
   "cell_type": "code",
   "execution_count": 28,
   "metadata": {},
   "outputs": [
    {
     "data": {
      "text/plain": [
       "array([[   1,    1,    1,    1,    1,    1,    1,    1],\n",
       "       [   1, 5428, 2187, 6565,    0, 8763, 6070, 1757],\n",
       "       [   0,    1,    0, 1788, 8901, 7037, 4748, 1807],\n",
       "       [   0, 8756, 4319, 1764, 6267,    1, 5911,    0],\n",
       "       [   1,    0,    1, 1388, 2844, 9355, 7489,    1],\n",
       "       [   0, 9769, 7564,    0,    1, 2050, 7770,    0],\n",
       "       [   1,    1,    0,    1,    0,    1,    0,    0],\n",
       "       [   0,    0,    1,    1,    0,    0,    1,    1]])"
      ]
     },
     "execution_count": 28,
     "metadata": {},
     "output_type": "execute_result"
    }
   ],
   "source": [
    "z[0]"
   ]
  },
  {
   "cell_type": "code",
   "execution_count": null,
   "metadata": {},
   "outputs": [],
   "source": []
  }
 ],
 "metadata": {
  "interpreter": {
   "hash": "e7370f93d1d0cde622a1f8e1c04877d8463912d04d973331ad4851f04de6915a"
  },
  "kernelspec": {
   "display_name": "Python 3.10.4 64-bit",
   "language": "python",
   "name": "python3"
  },
  "language_info": {
   "codemirror_mode": {
    "name": "ipython",
    "version": 3
   },
   "file_extension": ".py",
   "mimetype": "text/x-python",
   "name": "python",
   "nbconvert_exporter": "python",
   "pygments_lexer": "ipython3",
   "version": "3.10.5"
  },
  "orig_nbformat": 4
 },
 "nbformat": 4,
 "nbformat_minor": 2
}
