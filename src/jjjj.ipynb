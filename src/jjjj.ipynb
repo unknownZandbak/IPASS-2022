{
 "cells": [
  {
   "cell_type": "code",
   "execution_count": 7,
   "metadata": {},
   "outputs": [],
   "source": [
    "import numpy as np \n",
    "import main, solver"
   ]
  },
  {
   "cell_type": "code",
   "execution_count": 8,
   "metadata": {},
   "outputs": [
    {
     "data": {
      "text/plain": [
       "array([[3669, 7725, 5048, 8607,    0,    1],\n",
       "       [8281,    1, 7466,    0, 4517, 7043],\n",
       "       [2602, 4828, 9718, 4675, 2666, 3023],\n",
       "       [   0, 6487, 3865, 1522, 9387, 9335],\n",
       "       [4396,    1, 3926, 8685, 4685,    0],\n",
       "       [   0,    0, 5376, 8024, 3591, 5409]])"
      ]
     },
     "execution_count": 8,
     "metadata": {},
     "output_type": "execute_result"
    }
   ],
   "source": [
    "xm = main.generate_matrix(6)\n",
    "xm[0]"
   ]
  },
  {
   "cell_type": "code",
   "execution_count": 9,
   "metadata": {},
   "outputs": [
    {
     "ename": "KeyboardInterrupt",
     "evalue": "",
     "output_type": "error",
     "traceback": [
      "\u001b[0;31m---------------------------------------------------------------------------\u001b[0m",
      "\u001b[0;31mKeyboardInterrupt\u001b[0m                         Traceback (most recent call last)",
      "\u001b[1;32m/home/barrybatszak/Documents/school/IPASS-2022/src/jjjj.ipynb Cell 3'\u001b[0m in \u001b[0;36m<cell line: 1>\u001b[0;34m()\u001b[0m\n\u001b[0;32m----> <a href='vscode-notebook-cell:/home/barrybatszak/Documents/school/IPASS-2022/src/jjjj.ipynb#ch0000002?line=0'>1</a>\u001b[0m y \u001b[39m=\u001b[39m solver\u001b[39m.\u001b[39;49mBacktrack_Based_Search(xm[\u001b[39m0\u001b[39;49m])\n\u001b[1;32m      <a href='vscode-notebook-cell:/home/barrybatszak/Documents/school/IPASS-2022/src/jjjj.ipynb#ch0000002?line=1'>2</a>\u001b[0m y\n",
      "File \u001b[0;32m~/Documents/school/IPASS-2022/src/solver.py:8\u001b[0m, in \u001b[0;36mBacktrack_Based_Search\u001b[0;34m(matrix, pos, new_val)\u001b[0m\n\u001b[1;32m      6\u001b[0m     \u001b[39mprint\u001b[39m(pos, new_val)\n\u001b[1;32m      7\u001b[0m     matrix[pos[\u001b[39m0\u001b[39m], pos[\u001b[39m1\u001b[39m]] \u001b[39m=\u001b[39m new_val\n\u001b[0;32m----> 8\u001b[0m new_matrix \u001b[39m=\u001b[39m Constraint_propagations(matrix)\n\u001b[1;32m      9\u001b[0m \u001b[39mprint\u001b[39m(new_matrix)\n\u001b[1;32m     10\u001b[0m \u001b[39mprint\u001b[39m(\u001b[39m\"\u001b[39m\u001b[39m==========\u001b[39m\u001b[39m\"\u001b[39m)\n",
      "File \u001b[0;32m~/Documents/school/IPASS-2022/src/solver.py:71\u001b[0m, in \u001b[0;36mConstraint_propagations\u001b[0;34m(matrix)\u001b[0m\n\u001b[1;32m     69\u001b[0m \u001b[39melif\u001b[39;00m (matrix[i\u001b[39m-\u001b[39m\u001b[39m1\u001b[39m,row] \u001b[39m==\u001b[39m matrix[i\u001b[39m+\u001b[39m\u001b[39m1\u001b[39m,row]) \u001b[39mand\u001b[39;00m (matrix[i,row] \u001b[39m!=\u001b[39m \u001b[39m1\u001b[39m \u001b[39mand\u001b[39;00m matrix[i,row] \u001b[39m!=\u001b[39m \u001b[39m0\u001b[39m):\n\u001b[1;32m     70\u001b[0m     matrix[row,i] \u001b[39m=\u001b[39m \u001b[39m0\u001b[39m\n\u001b[0;32m---> 71\u001b[0m     \u001b[39mif\u001b[39;00m rule_checker(matrix)[\u001b[39m0\u001b[39m] \u001b[39m==\u001b[39m \u001b[39m0\u001b[39m: \u001b[39mpass\u001b[39;00m\n\u001b[1;32m     72\u001b[0m     \u001b[39melse\u001b[39;00m: matrix[row,i] \u001b[39m=\u001b[39m \u001b[39m1\u001b[39m\n\u001b[1;32m     73\u001b[0m     changes \u001b[39m=\u001b[39m \u001b[39m1\u001b[39m\n",
      "File \u001b[0;32m~/Documents/school/IPASS-2022/src/solver.py:181\u001b[0m, in \u001b[0;36mrule_checker\u001b[0;34m(matrix)\u001b[0m\n\u001b[1;32m    179\u001b[0m \u001b[39mfor\u001b[39;00m column \u001b[39min\u001b[39;00m \u001b[39mrange\u001b[39m(\u001b[39mlen\u001b[39m(matrix)):\n\u001b[1;32m    180\u001b[0m     Tb \u001b[39m=\u001b[39m matrix\u001b[39m.\u001b[39mT \u001b[39m==\u001b[39m matrix\u001b[39m.\u001b[39mT[column,:]\n\u001b[0;32m--> 181\u001b[0m     Tb \u001b[39m=\u001b[39m Tb\u001b[39m.\u001b[39;49mall(\u001b[39m1\u001b[39;49m)\n\u001b[1;32m    182\u001b[0m     Tb \u001b[39m=\u001b[39m np\u001b[39m.\u001b[39mdelete(Tb, column)\n\u001b[1;32m    183\u001b[0m     \u001b[39mif\u001b[39;00m \u001b[39mTrue\u001b[39;00m \u001b[39min\u001b[39;00m Tb:\n",
      "File \u001b[0;32m~/.local/lib/python3.10/site-packages/numpy/core/_methods.py:60\u001b[0m, in \u001b[0;36m_all\u001b[0;34m(a, axis, dtype, out, keepdims, where)\u001b[0m\n\u001b[1;32m     57\u001b[0m         \u001b[39mreturn\u001b[39;00m umr_any(a, axis, dtype, out, keepdims)\n\u001b[1;32m     58\u001b[0m     \u001b[39mreturn\u001b[39;00m umr_any(a, axis, dtype, out, keepdims, where\u001b[39m=\u001b[39mwhere)\n\u001b[0;32m---> 60\u001b[0m \u001b[39mdef\u001b[39;00m \u001b[39m_all\u001b[39m(a, axis\u001b[39m=\u001b[39m\u001b[39mNone\u001b[39;00m, dtype\u001b[39m=\u001b[39m\u001b[39mNone\u001b[39;00m, out\u001b[39m=\u001b[39m\u001b[39mNone\u001b[39;00m, keepdims\u001b[39m=\u001b[39m\u001b[39mFalse\u001b[39;00m, \u001b[39m*\u001b[39m, where\u001b[39m=\u001b[39m\u001b[39mTrue\u001b[39;00m):\n\u001b[1;32m     61\u001b[0m     \u001b[39m# Parsing keyword arguments is currently fairly slow, so avoid it for now\u001b[39;00m\n\u001b[1;32m     62\u001b[0m     \u001b[39mif\u001b[39;00m where \u001b[39mis\u001b[39;00m \u001b[39mTrue\u001b[39;00m:\n\u001b[1;32m     63\u001b[0m         \u001b[39mreturn\u001b[39;00m umr_all(a, axis, dtype, out, keepdims)\n",
      "\u001b[0;31mKeyboardInterrupt\u001b[0m: "
     ]
    }
   ],
   "source": [
    "y = solver.Backtrack_Based_Search(xm[0])\n",
    "y"
   ]
  },
  {
   "cell_type": "code",
   "execution_count": null,
   "metadata": {},
   "outputs": [],
   "source": []
  }
 ],
 "metadata": {
  "kernelspec": {
   "display_name": "Python 3.10.5 64-bit",
   "language": "python",
   "name": "python3"
  },
  "language_info": {
   "codemirror_mode": {
    "name": "ipython",
    "version": 3
   },
   "file_extension": ".py",
   "mimetype": "text/x-python",
   "name": "python",
   "nbconvert_exporter": "python",
   "pygments_lexer": "ipython3",
   "version": "3.10.5"
  },
  "orig_nbformat": 4,
  "vscode": {
   "interpreter": {
    "hash": "e7370f93d1d0cde622a1f8e1c04877d8463912d04d973331ad4851f04de6915a"
   }
  }
 },
 "nbformat": 4,
 "nbformat_minor": 2
}
